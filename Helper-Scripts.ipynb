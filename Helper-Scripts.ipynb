{
 "cells": [
  {
   "cell_type": "code",
   "execution_count": 17,
   "metadata": {},
   "outputs": [],
   "source": [
    "from keras.datasets import mnist\n",
    "from PIL import Image\n",
    "from __future__ import print_function"
   ]
  },
  {
   "cell_type": "code",
   "execution_count": 2,
   "metadata": {},
   "outputs": [],
   "source": [
    "(x_train, y_train), (x_test, y_test) = mnist.load_data()"
   ]
  },
  {
   "cell_type": "code",
   "execution_count": 7,
   "metadata": {},
   "outputs": [],
   "source": [
    "saving_directory = 'datasets/mnist/train/'\n",
    "size = (32, 32)"
   ]
  },
  {
   "cell_type": "code",
   "execution_count": 14,
   "metadata": {},
   "outputs": [],
   "source": [
    "img = Image.fromarray(x_train[0])\n",
    "img = img.resize(size, Image.ANTIALIAS)\n",
    "img.save('test.png')\n"
   ]
  },
  {
   "cell_type": "code",
   "execution_count": 13,
   "metadata": {},
   "outputs": [
    {
     "data": {
      "text/plain": [
       "(60000, 28, 28)"
      ]
     },
     "execution_count": 13,
     "metadata": {},
     "output_type": "execute_result"
    }
   ],
   "source": [
    "x_train.shape"
   ]
  },
  {
   "cell_type": "code",
   "execution_count": 27,
   "metadata": {},
   "outputs": [],
   "source": [
    "def init_dict():\n",
    "    img_count = {\n",
    "                    '0' : 0,\n",
    "                    '1' : 0,\n",
    "                    '2' : 0,\n",
    "                    '3' : 0,\n",
    "                    '4' : 0,\n",
    "                    '5' : 0,\n",
    "                    '6' : 0,\n",
    "                    '7' : 0,\n",
    "                    '8' : 0,\n",
    "                    '9' : 0,\n",
    "                }\n",
    "    return img_count"
   ]
  },
  {
   "cell_type": "code",
   "execution_count": 28,
   "metadata": {},
   "outputs": [],
   "source": [
    "def sort_data(x_data, y_data, directory, size):\n",
    "    img_count = init_dict()\n",
    "    for i, x in enumerate(x_data):\n",
    "        img = Image.fromarray(x)\n",
    "        img = img.resize(size, Image.ANTIALIAS)\n",
    "        index = str(y_data[i])\n",
    "        img_count[index] = img_count[index]+1\n",
    "        filename = str(img_count[index])+'.png'\n",
    "        img.save(directory+index+'/'+filename)\n",
    "        print(i, sep='\\r', end='\\r')"
   ]
  },
  {
   "cell_type": "code",
   "execution_count": 29,
   "metadata": {},
   "outputs": [
    {
     "name": "stdout",
     "output_type": "stream",
     "text": [
      "9999\r"
     ]
    }
   ],
   "source": [
    "sort_data(x_test, y_test, 'datasets/mnist/test/', size)"
   ]
  }
 ],
 "metadata": {
  "kernelspec": {
   "display_name": "Python (tensorflow)",
   "language": "python",
   "name": "tensorflow"
  },
  "language_info": {
   "codemirror_mode": {
    "name": "ipython",
    "version": 3
   },
   "file_extension": ".py",
   "mimetype": "text/x-python",
   "name": "python",
   "nbconvert_exporter": "python",
   "pygments_lexer": "ipython3",
   "version": "3.5.5"
  }
 },
 "nbformat": 4,
 "nbformat_minor": 2
}
