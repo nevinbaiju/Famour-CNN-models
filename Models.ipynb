{
 "cells": [
  {
   "cell_type": "markdown",
   "metadata": {},
   "source": [
    "# Famous CNN Models\n",
    "This project is aimed at implementing some of the most popular CNN models in keras\n",
    "\n",
    "### Index\n",
    "- [LeNet-5](#lenet)\n",
    "- [AlexNet](#alexnet)\n",
    "- [VGG-16](#vgg16)"
   ]
  },
  {
   "cell_type": "code",
   "execution_count": 1,
   "metadata": {},
   "outputs": [
    {
     "name": "stderr",
     "output_type": "stream",
     "text": [
      "Using TensorFlow backend.\n"
     ]
    }
   ],
   "source": [
    "from keras.models import Sequential\n",
    "\n",
    "from keras.preprocessing.image import ImageDataGenerator"
   ]
  },
  {
   "cell_type": "code",
   "execution_count": 2,
   "metadata": {},
   "outputs": [],
   "source": [
    "from keras.layers import Convolution2D\n",
    "from keras.layers import AveragePooling2D\n",
    "from keras.layers import MaxPool2D\n",
    "from keras.layers import Flatten\n",
    "from keras.layers import Dense\n",
    "from keras.layers import ZeroPadding2D"
   ]
  },
  {
   "cell_type": "code",
   "execution_count": 3,
   "metadata": {},
   "outputs": [],
   "source": [
    "from sklearn.metrics import confusion_matrix\n",
    "import matplotlib.pyplot as plt\n",
    "import numpy as np\n",
    "from __future__ import print_function\n",
    "from PIL import Image\n",
    "from sklearn.preprocessing import OneHotEncoder"
   ]
  },
  {
   "cell_type": "markdown",
   "metadata": {},
   "source": [
    "<a id='lenet'></a>\n",
    "## LeNet-5"
   ]
  },
  {
   "cell_type": "code",
   "execution_count": 4,
   "metadata": {},
   "outputs": [],
   "source": [
    "from keras.datasets import mnist"
   ]
  },
  {
   "cell_type": "code",
   "execution_count": 5,
   "metadata": {},
   "outputs": [],
   "source": [
    "train, test = mnist.load_data()"
   ]
  },
  {
   "cell_type": "code",
   "execution_count": 50,
   "metadata": {},
   "outputs": [
    {
     "data": {
      "text/plain": [
       "60000"
      ]
     },
     "execution_count": 50,
     "metadata": {},
     "output_type": "execute_result"
    }
   ],
   "source": [
    "len(train[0])"
   ]
  },
  {
   "cell_type": "code",
   "execution_count": 151,
   "metadata": {},
   "outputs": [],
   "source": [
    "def process_batch(batch):\n",
    "    \"\"\"\n",
    "    This function takes in a batch of single channel images as array and then resizes\n",
    "    according to the requirements and returns the processed batch.\n",
    "    \n",
    "    Parameters\n",
    "    ----------\n",
    "    batch: numpy array \n",
    "           Batch of images given for processing as (batch_size, img_width, img_height, channel).\n",
    "    Returns\n",
    "    -------\n",
    "    processed_batch: numpy array\n",
    "          The processed batch of images.\n",
    "    \n",
    "    \"\"\"\n",
    "    processed_batch = []\n",
    "    for img_arr in batch:\n",
    "        img = Image.fromarray(img_arr)\n",
    "        img = img.resize((32, 32), Image.ANTIALIAS)\n",
    "        img_arr = np.reshape(np.array(img), newshape=(32, 32, 1))\n",
    "        processed_batch.append(img_arr)\n",
    "        \n",
    "    return np.array(processed_batch)\n",
    "        \n",
    "def create_genrator(data, batch_size):\n",
    "    \"\"\"\n",
    "    This function is used for creating a generator object that iterates over the total input data after processing it.\n",
    "    The x data is resized.\n",
    "    The y data is one hot encoded.\n",
    "    \n",
    "    Parameters\n",
    "    ----------\n",
    "    data              :tuple \n",
    "                       Input data in the form of x and y values as a tuple.\n",
    "    batch_size        :integer\n",
    "                       The number of batches to which the original data size needs to be split.\n",
    "    Returns\n",
    "    -------\n",
    "    data_generator    :generator object\n",
    "                       The generator object that supplies in processed x values and the respective y label.\n",
    "    \n",
    "    \"\"\"\n",
    "    x = data[0]\n",
    "    y = data[1]\n",
    "    \n",
    "    one_h = OneHotEncoder()\n",
    "    arr = one_h.fit_transform(y.reshape(-1, 1))\n",
    "    y = np.array(arr.toarray())\n",
    "    \n",
    "    index = -1\n",
    "             \n",
    "    while(1):\n",
    "        index = index + batch_size\n",
    "        processed_batch_x = process_batch(x[index:index+batch_size])\n",
    "        processed_batch_y = y[index:index+batch_size]\n",
    "        \n",
    "        if not(index <= len(x)):\n",
    "            print(index, sep='\\r', end='\\r')\n",
    "            index = -1\n",
    "        else:\n",
    "             yield [processed_batch_x, processed_batch_y]       "
   ]
  },
  {
   "cell_type": "code",
   "execution_count": 152,
   "metadata": {},
   "outputs": [],
   "source": [
    "train_gen = create_genrator(train, 32)"
   ]
  },
  {
   "cell_type": "code",
   "execution_count": 153,
   "metadata": {},
   "outputs": [],
   "source": [
    "def createLeNet():\n",
    "    model = Sequential()\n",
    "\n",
    "    # First convolutional layer with filter = (5*5) and strides = 1\n",
    "    model.add(Convolution2D(filters=6, kernel_size=(5, 5), input_shape=(32, 32, 1), strides=1, activation='relu'))\n",
    "\n",
    "    # Average pooling is applied.\n",
    "    model.add(AveragePooling2D(pool_size=(2, 2), strides=2))\n",
    "\n",
    "    # Second convolutional layer is applied with the same kernel size and the same strides.\n",
    "    model.add(Convolution2D(filters=16, kernel_size=(5, 5), strides=1, activation='relu'))\n",
    "\n",
    "    # A final average pooling layer is applied before using Fully connected layers but with strides=2\n",
    "    model.add(AveragePooling2D(pool_size=(2, 2), strides=2))\n",
    "\n",
    "    # We then use fully connected layers\n",
    "\n",
    "    model.add(Flatten())\n",
    "    model.add(Dense(units=120))\n",
    "    model.add(Dense(units=84))\n",
    "    model.add(Dense(units=10, activation = 'softmax'))\n",
    "\n",
    "    model.compile(optimizer = 'adam', loss = 'categorical_crossentropy', metrics = ['accuracy'])\n",
    "    print(model.summary())\n",
    "    \n",
    "    return model"
   ]
  },
  {
   "cell_type": "code",
   "execution_count": 154,
   "metadata": {},
   "outputs": [
    {
     "name": "stdout",
     "output_type": "stream",
     "text": [
      "_________________________________________________________________\n",
      "Layer (type)                 Output Shape              Param #   \n",
      "=================================================================\n",
      "conv2d_26 (Conv2D)           (None, 28, 28, 6)         156       \n",
      "_________________________________________________________________\n",
      "average_pooling2d_23 (Averag (None, 14, 14, 6)         0         \n",
      "_________________________________________________________________\n",
      "conv2d_27 (Conv2D)           (None, 10, 10, 16)        2416      \n",
      "_________________________________________________________________\n",
      "average_pooling2d_24 (Averag (None, 5, 5, 16)          0         \n",
      "_________________________________________________________________\n",
      "flatten_12 (Flatten)         (None, 400)               0         \n",
      "_________________________________________________________________\n",
      "dense_34 (Dense)             (None, 120)               48120     \n",
      "_________________________________________________________________\n",
      "dense_35 (Dense)             (None, 84)                10164     \n",
      "_________________________________________________________________\n",
      "dense_36 (Dense)             (None, 10)                850       \n",
      "=================================================================\n",
      "Total params: 61,706\n",
      "Trainable params: 61,706\n",
      "Non-trainable params: 0\n",
      "_________________________________________________________________\n",
      "None\n"
     ]
    }
   ],
   "source": [
    "LeNet = createLeNet()"
   ]
  },
  {
   "cell_type": "code",
   "execution_count": 155,
   "metadata": {},
   "outputs": [
    {
     "name": "stdout",
     "output_type": "stream",
     "text": [
      "Epoch 1/15\n",
      "1875/1875 [==============================] - 9s 5ms/step - loss: 1.9398 - acc: 0.84561\n",
      "Epoch 2/15\n",
      "1875/1875 [==============================] - 8s 4ms/step - loss: 0.0762 - acc: 0.9771\n",
      "Epoch 3/15\n",
      "1875/1875 [==============================] - 9s 5ms/step - loss: 0.0648 - acc: 0.9805\n",
      "Epoch 4/15\n",
      "1875/1875 [==============================] - 8s 4ms/step - loss: 0.0593 - acc: 0.9823\n",
      "Epoch 5/15\n",
      "1875/1875 [==============================] - 8s 4ms/step - loss: 0.0560 - acc: 0.98251\n",
      "Epoch 6/15\n",
      "1875/1875 [==============================] - 9s 5ms/step - loss: 0.0459 - acc: 0.9862\n",
      "Epoch 7/15\n",
      "1875/1875 [==============================] - 8s 4ms/step - loss: 0.0462 - acc: 0.9855\n",
      "Epoch 8/15\n",
      "1875/1875 [==============================] - 9s 5ms/step - loss: 0.0401 - acc: 0.9874\n",
      "Epoch 9/15\n",
      "1875/1875 [==============================] - 9s 5ms/step - loss: 0.0401 - acc: 0.9882\n",
      "Epoch 10/15\n",
      "1875/1875 [==============================] - 9s 5ms/step - loss: 0.0356 - acc: 0.98921\n",
      "Epoch 11/15\n",
      "1875/1875 [==============================] - 9s 5ms/step - loss: 0.0361 - acc: 0.98861\n",
      "Epoch 12/15\n",
      "1875/1875 [==============================] - 8s 4ms/step - loss: 0.0364 - acc: 0.9884\n",
      "Epoch 13/15\n",
      "1875/1875 [==============================] - 8s 4ms/step - loss: 0.0314 - acc: 0.9902\n",
      "Epoch 14/15\n",
      "1875/1875 [==============================] - 8s 4ms/step - loss: 0.0312 - acc: 0.99071\n",
      "Epoch 15/15\n",
      "1875/1875 [==============================] - 8s 4ms/step - loss: 0.0333 - acc: 0.9897\n"
     ]
    }
   ],
   "source": [
    "history = LeNet.fit_generator(generator=train_gen, \n",
    "                              steps_per_epoch=60000/32, \n",
    "                              epochs=15)"
   ]
  },
  {
   "cell_type": "markdown",
   "metadata": {},
   "source": [
    "<a id='alexnet'></a>\n",
    "## AlexNet"
   ]
  }
 ],
 "metadata": {
  "kernelspec": {
   "display_name": "Python (tensorflow)",
   "language": "python",
   "name": "tensorflow"
  },
  "language_info": {
   "codemirror_mode": {
    "name": "ipython",
    "version": 3
   },
   "file_extension": ".py",
   "mimetype": "text/x-python",
   "name": "python",
   "nbconvert_exporter": "python",
   "pygments_lexer": "ipython3",
   "version": "3.5.5"
  }
 },
 "nbformat": 4,
 "nbformat_minor": 2
}
