{
 "cells": [
  {
   "cell_type": "markdown",
   "metadata": {},
   "source": [
    "# Famous CNN Models\n",
    "This project is aimed at implementing some of the most popular CNN models in keras\n",
    "\n",
    "### Index\n",
    "- [LeNet-5](#lenet)\n",
    "- [AlexNet](#alexnet)\n",
    "- [VGG-16](#vgg16)"
   ]
  },
  {
   "cell_type": "code",
   "execution_count": 1,
   "metadata": {},
   "outputs": [
    {
     "name": "stderr",
     "output_type": "stream",
     "text": [
      "Using TensorFlow backend.\n"
     ]
    }
   ],
   "source": [
    "from keras.models import Sequential\n",
    "from keras.layers import Convolution2D\n",
    "from keras.layers import AveragePooling2D\n",
    "from keras.layers import Flatten\n",
    "from keras.layers import Dense"
   ]
  },
  {
   "cell_type": "code",
   "execution_count": 2,
   "metadata": {},
   "outputs": [],
   "source": [
    "from sklearn.metrics import confusion_matrix\n",
    "import matplotlib.pyplot as plt"
   ]
  },
  {
   "cell_type": "markdown",
   "metadata": {},
   "source": [
    "## Helper functions"
   ]
  },
  {
   "cell_type": "markdown",
   "metadata": {},
   "source": [
    "<a id='lenet'></a>\n",
    "## LeNet-5"
   ]
  },
  {
   "cell_type": "code",
   "execution_count": 12,
   "metadata": {},
   "outputs": [
    {
     "name": "stdout",
     "output_type": "stream",
     "text": [
      "Extracting /tmp/data/train-images-idx3-ubyte.gz\n",
      "Extracting /tmp/data/train-labels-idx1-ubyte.gz\n",
      "Extracting /tmp/data/t10k-images-idx3-ubyte.gz\n",
      "Extracting /tmp/data/t10k-labels-idx1-ubyte.gz\n"
     ]
    }
   ],
   "source": [
    "from tensorflow.examples.tutorials.mnist import input_data\n",
    "# depricated\n",
    "mnist = input_data.read_data_sets(\"/tmp/data/\", one_hot = True, reshape = False);"
   ]
  },
  {
   "cell_type": "code",
   "execution_count": 4,
   "metadata": {},
   "outputs": [],
   "source": [
    "X_train = mnist.train.images\n",
    "y_train = mnist.train.labels\n",
    "\n",
    "X_test = mnist.test.images\n",
    "y_test = mnist.test.labels"
   ]
  },
  {
   "cell_type": "code",
   "execution_count": 10,
   "metadata": {},
   "outputs": [],
   "source": [
    "def createLeNet():\n",
    "    model = Sequential()\n",
    "\n",
    "    # First convolutional layer with filter = (5*5) and strides = 1\n",
    "    model.add(Convolution2D(filters=6, kernel_size=(5, 5), input_shape=(28, 28, 1), strides=1))\n",
    "\n",
    "    # Average pooling is applied.\n",
    "    model.add(AveragePooling2D(pool_size=(2, 2), strides=1))\n",
    "\n",
    "    # Second convolutional layer is applied with the same kernel size and the same strides.\n",
    "    model.add(Convolution2D(filters=6, kernel_size=(5, 5), strides=1))\n",
    "\n",
    "    # A final average pooling layer is applied before using Fully connected layers but with strides=2\n",
    "    model.add(AveragePooling2D(pool_size=(2, 2), strides=2))\n",
    "\n",
    "    # We then use fully connected layers\n",
    "\n",
    "    model.add(Flatten())\n",
    "    model.add(Dense(units=120))\n",
    "    model.add(Dense(units=84))\n",
    "    model.add(Dense(units=10, activation = 'sigmoid'))\n",
    "\n",
    "    model.compile(optimizer = 'SGD', loss = 'mean_squared_error', metrics = ['accuracy'])\n",
    "    print(model.summary())\n",
    "    \n",
    "    return model"
   ]
  },
  {
   "cell_type": "code",
   "execution_count": null,
   "metadata": {},
   "outputs": [],
   "source": [
    "ReNet = createLeNet()"
   ]
  },
  {
   "cell_type": "code",
   "execution_count": 6,
   "metadata": {},
   "outputs": [
    {
     "name": "stdout",
     "output_type": "stream",
     "text": [
      "Epoch 1/15\n",
      "55000/55000 [==============================] - 14s 262us/step - loss: 0.0470 - acc: 0.7102\n",
      "Epoch 2/15\n",
      "55000/55000 [==============================] - 13s 239us/step - loss: 0.0253 - acc: 0.8649\n",
      "Epoch 3/15\n",
      "55000/55000 [==============================] - 13s 239us/step - loss: 0.0230 - acc: 0.8779\n",
      "Epoch 4/15\n",
      "55000/55000 [==============================] - 13s 239us/step - loss: 0.0219 - acc: 0.8845\n",
      "Epoch 5/15\n",
      "55000/55000 [==============================] - 13s 240us/step - loss: 0.0213 - acc: 0.8887\n",
      "Epoch 6/15\n",
      "55000/55000 [==============================] - 13s 241us/step - loss: 0.0208 - acc: 0.8899\n",
      "Epoch 7/15\n",
      "55000/55000 [==============================] - 13s 243us/step - loss: 0.0205 - acc: 0.8908\n",
      "Epoch 8/15\n",
      "55000/55000 [==============================] - 13s 243us/step - loss: 0.0203 - acc: 0.8931\n",
      "Epoch 9/15\n",
      "55000/55000 [==============================] - 13s 242us/step - loss: 0.0200 - acc: 0.8938\n",
      "Epoch 10/15\n",
      "55000/55000 [==============================] - 13s 245us/step - loss: 0.0198 - acc: 0.8956\n",
      "Epoch 11/15\n",
      "55000/55000 [==============================] - 14s 246us/step - loss: 0.0197 - acc: 0.8965\n",
      "Epoch 12/15\n",
      "55000/55000 [==============================] - 14s 246us/step - loss: 0.0195 - acc: 0.8971\n",
      "Epoch 13/15\n",
      "55000/55000 [==============================] - 14s 247us/step - loss: 0.0193 - acc: 0.8983\n",
      "Epoch 14/15\n",
      "55000/55000 [==============================] - 13s 245us/step - loss: 0.0192 - acc: 0.8989\n",
      "Epoch 15/15\n",
      "55000/55000 [==============================] - 13s 245us/step - loss: 0.0191 - acc: 0.8995\n"
     ]
    },
    {
     "data": {
      "text/plain": [
       "<keras.callbacks.History at 0x7f21cfe53b38>"
      ]
     },
     "execution_count": 6,
     "metadata": {},
     "output_type": "execute_result"
    }
   ],
   "source": [
    "history = ReNet.fit(X_train, y_train, batch_size = 10, epochs = 15)"
   ]
  },
  {
   "cell_type": "code",
   "execution_count": 9,
   "metadata": {},
   "outputs": [
    {
     "name": "stdout",
     "output_type": "stream",
     "text": [
      "Test loss: 0.017409637355990708\n",
      "Test accuracy: 0.9099\n"
     ]
    }
   ],
   "source": [
    "score = model.evaluate(X_test, y_test, verbose=0)\n",
    "print('Test loss:', score[0])\n",
    "print('Test accuracy:', score[1])"
   ]
  }
 ],
 "metadata": {
  "kernelspec": {
   "display_name": "Python [conda env:tensorflow]",
   "language": "python",
   "name": "conda-env-tensorflow-py"
  },
  "language_info": {
   "codemirror_mode": {
    "name": "ipython",
    "version": 3
   },
   "file_extension": ".py",
   "mimetype": "text/x-python",
   "name": "python",
   "nbconvert_exporter": "python",
   "pygments_lexer": "ipython3",
   "version": "3.5.5"
  }
 },
 "nbformat": 4,
 "nbformat_minor": 2
}
